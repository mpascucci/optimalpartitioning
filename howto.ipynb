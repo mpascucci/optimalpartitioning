{
 "cells": [
  {
   "cell_type": "code",
   "execution_count": 6,
   "metadata": {},
   "outputs": [],
   "source": [
    "import matplotlib.pyplot as plt\n",
    "import numpy as np\n",
    "import optimalpartitioning as op\n",
    "\n",
    "%matplotlib inline"
   ]
  },
  {
   "cell_type": "markdown",
   "metadata": {},
   "source": [
    "Data generation"
   ]
  },
  {
   "cell_type": "code",
   "execution_count": 8,
   "metadata": {},
   "outputs": [],
   "source": [
    "def generate_pw_linear_signal(cp_n, n=100, sigma=1, x_range=(0,100), y_range=(0,100)):\n",
    "  \"\"\"Generate a random signal with cp_n changepoints.\n",
    "\n",
    "  cp_n :  number of changepoints\n",
    "  n : number of samples\n",
    "  \"\"\"\n",
    " \n",
    "  cp_idx = np.sort(np.concatenate([[0], np.random.randint(1,n-1,size=cp_n), [n]]))\n",
    "  cp_x = (cp_idx/n)*(x_range[1]-x_range[0]) + x_range[0]\n",
    "  cp_y = np.random.uniform(*y_range,size=cp_n+2)\n",
    "\n",
    "  x = np.linspace(*x_range,n)\n",
    "  y0 = np.interp(x, cp_x, cp_y)\n",
    "  y = y0 + np.random.randn(len(x))*sigma\n",
    "  return x,y,y0,cp_idx[1:-1]\n",
    "\n",
    "def generate_pw_const_signal(cp_n, n=100, sigma=1, x_range=(0,100), y_range=(0,100)):\n",
    "  \"\"\"Generate a random signal with cp_n changepoints.\n",
    "\n",
    "  cp_n :  number of changepoints\n",
    "  n : number of samples\n",
    "  \"\"\"\n",
    " \n",
    "  cpts_idx = [0] + sorted(np.random.randint(0,n,size=cp_n-1)) + [n]\n",
    "  cpts_y = np.random.uniform(*y_range,size=cp_n+1)\n",
    "\n",
    "  x = np.linspace(*x_range,n)\n",
    "  y = np.zeros(n)\n",
    "  for i in range(cp_n):\n",
    "    y[cpts_idx[i]:cpts_idx[i+1]] = cpts_y[i]\n",
    "  \n",
    "  y += np.random.randn(len(x))*sigma\n",
    "  return x,y,cpts_idx[1:-1]\n",
    "\n",
    "\n",
    "def get_segments(op2Dresult):\n",
    "  \"\"\"get plottable segments\"\"\"\n",
    "  points = list(zip(op2Dresult.x, op2Dresult.y))\n",
    "  return [((points[i][0],points[i+1][0]),(points[i][1],points[i+1][1])) for i in range(0,len(points),2)]"
   ]
  },
  {
   "cell_type": "code",
   "execution_count": 9,
   "metadata": {},
   "outputs": [],
   "source": [
    "# load example signal\n",
    "# x,y = np.loadtxt('test/sample_data.txt')"
   ]
  },
  {
   "cell_type": "markdown",
   "metadata": {},
   "source": [
    "## OP1D"
   ]
  },
  {
   "cell_type": "code",
   "execution_count": 177,
   "metadata": {},
   "outputs": [
    {
     "data": {
      "text/plain": [
       "Text(0, 0.5, 'y')"
      ]
     },
     "execution_count": 177,
     "metadata": {},
     "output_type": "execute_result"
    },
    {
     "data": {
      "image/png": "[encoded data removed]",
      "text/plain": [
       "<Figure size 432x288 with 1 Axes>"
      ]
     },
     "metadata": {
      "needs_background": "light"
     },
     "output_type": "display_data"
    }
   ],
   "source": [
    "sigma = 3\n",
    "x,y,cp_real = generate_pw_const_signal(3, sigma=sigma)\n",
    "plt.plot(x,y,'.b')\n",
    "\n",
    "result = op.op1D(x, y, penalty=100) # x, y, beta\n",
    "\n",
    "for cp in cp_real:\n",
    "  # draw real changepoints\n",
    "  plt.axvline(x[cp], color='k', ls='--')\n",
    "\n",
    "for cp in result.cp:\n",
    "  # draw detected changepoints\n",
    "  plt.axvline(x[cp], color='r', ls='--')\n",
    "\n",
    "plt.xlabel('x')\n",
    "plt.ylabel('y')"
   ]
  },
  {
   "cell_type": "markdown",
   "metadata": {},
   "source": [
    "without continuity (function `op2`)"
   ]
  },
  {
   "cell_type": "code",
   "execution_count": 182,
   "metadata": {},
   "outputs": [
    {
     "name": "stdout",
     "output_type": "stream",
     "text": [
      "changepoints found: [3, 33] real: [ 3 38]\n"
     ]
    },
    {
     "data": {
      "text/plain": [
       "Text(0, 0.5, 'y')"
      ]
     },
     "execution_count": 182,
     "metadata": {},
     "output_type": "execute_result"
    },
    {
     "data": {
      "image/png": "[encoded data removed]",
      "text/plain": [
       "<Figure size 432x288 with 1 Axes>"
      ]
     },
     "metadata": {
      "needs_background": "light"
     },
     "output_type": "display_data"
    }
   ],
   "source": [
    "sigma = 5\n",
    "x,y,y0,cp_real = generate_pw_linear_signal(2, n=100, sigma=sigma)\n",
    "plt.plot(x,y,'.b')\n",
    "\n",
    "result = op.op2D(x,y,500) # x, y, beta\n",
    "\n",
    "print(\"changepoints found:\", result.cp, \"real:\", cp_real)\n",
    "\n",
    "plt.plot(x,y,'.', label=\"data\")\n",
    "\n",
    "for start, end in get_segments(result):\n",
    "  plt.plot(start, end, \"r\")\n",
    "\n",
    "plt.plot([],[],'r', label='fit')\n",
    "\n",
    "plt.plot(x,y0, \"g--\", label=\"signal\")\n",
    "# for cp in cp_real:\n",
    "#   # draw real changepoints\n",
    "#   plt.axvline(x[cp], color='g', ls='--')\n",
    "\n",
    "# for cp in result.cp:\n",
    "#   # draw detected changepoints\n",
    "#   plt.axvline(x[cp], color='r', ls='--')\n",
    "\n",
    "    \n",
    "plt.legend();\n",
    "\n",
    "\n",
    "plt.xlabel('x')\n",
    "plt.ylabel('y')"
   ]
  },
  {
   "cell_type": "markdown",
   "metadata": {},
   "source": [
    "with continuity (function `op2cc`)"
   ]
  },
  {
   "cell_type": "code",
   "execution_count": 183,
   "metadata": {},
   "outputs": [
    {
     "name": "stdout",
     "output_type": "stream",
     "text": [
      "changepoints found: [3, 6, 38] real: [ 3 38]\n"
     ]
    },
    {
     "data": {
      "text/plain": [
       "Text(0, 0.5, 'y')"
      ]
     },
     "execution_count": 183,
     "metadata": {},
     "output_type": "execute_result"
    },
    {
     "data": {
      "image/png": "[encoded data removed]",
      "text/plain": [
       "<Figure size 432x288 with 1 Axes>"
      ]
     },
     "metadata": {
      "needs_background": "light"
     },
     "output_type": "display_data"
    }
   ],
   "source": [
    "sigma = 2\n",
    "n=200\n",
    "# x,y,y0,cp_real = generate_pw_linear_signal(2, n=n, sigma=sigma)\n",
    "plt.plot(x,y,'.b')\n",
    "\n",
    "result = op.op2Dcc(x,y,500)\n",
    "\n",
    "print(\"changepoints found:\", result.cp, \"real:\", cp_real)\n",
    "\n",
    "#fig, ax = plt.subplots(figsize=(16,10))\n",
    "plt.plot(x,y,'.', label=\"data\")\n",
    "\n",
    "plt.plot(result.x,result.y, \"r\", label='fit')\n",
    "plt.plot(x,y0, \"g\", label=\"signal\")\n",
    "\n",
    "# for cp in cp_real:\n",
    "#   # draw real changepoints\n",
    "#   plt.axvline(x[cp], color='g', ls='--')\n",
    "\n",
    "# for cp in result.cp:\n",
    "#   # draw detected changepoints\n",
    "#   plt.axvline(x[cp], color='r', ls='--')\n",
    "    \n",
    "plt.legend();\n",
    "plt.xlabel('x')\n",
    "plt.ylabel('y')"
   ]
  },
  {
   "cell_type": "code",
   "execution_count": 184,
   "metadata": {},
   "outputs": [
    {
     "name": "stdout",
     "output_type": "stream",
     "text": [
      "cost 4121.556284128602\n",
      "cp index [3, 6, 38]\n",
      "cp x [0.0, 3.0303030014038086, 6.060606002807617, 38.38383865356445, 100.0]\n",
      "xp y [87.41463470458984, -10.553853034973145, 8.177253723144531, 84.86253356933594, 83.09634399414062]\n"
     ]
    }
   ],
   "source": [
    "print(\"cost\", result.cost)\n",
    "print(\"cp index\", result.cp)\n",
    "print(\"cp x\", result.x)\n",
    "print(\"xp y\", result.y)"
   ]
  }
 ],
 "metadata": {
  "kernelspec": {
   "display_name": "Python 3",
   "language": "python",
   "name": "python3"
  },
  "language_info": {
   "codemirror_mode": {
    "name": "ipython",
    "version": 3
   },
   "file_extension": ".py",
   "mimetype": "text/x-python",
   "name": "python",
   "nbconvert_exporter": "python",
   "pygments_lexer": "ipython3",
   "version": "3.6.8"
  }
 },
 "nbformat": 4,
 "nbformat_minor": 4
}
